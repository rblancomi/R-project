{
 "cells": [
  {
   "cell_type": "markdown",
   "metadata": {
    "slideshow": {
     "slide_type": "subslide"
    }
   },
   "source": [
    "## Cancer Progression Models\n",
    "\n",
    "Cancer is an **heterogeneous disease** caused by the continuous accumulation of somatic mutations during lifetime of an individual. \n",
    "\n",
    "<img src=\"tumor-heterogeneity.png\"\n",
    "      align=\"center\"/>\n",
    "\n"
   ]
  },
  {
   "cell_type": "markdown",
   "metadata": {
    "slideshow": {
     "slide_type": "fragment"
    }
   },
   "source": [
    "Somatic mutations that affect the cells are divided in:\n",
    "\n",
    "- **Passenger mutations** --> Silent mutations\n",
    "- **Driver mutations** --> Lead to cancer progression\n",
    "\n",
    "<img src=\"Passenger_driver.jpg\"\n",
    "      style=\"width:400px; height: 250px\" \n",
    "      align=\"center\"/>\n"
   ]
  },
  {
   "cell_type": "markdown",
   "metadata": {
    "slideshow": {
     "slide_type": "subslide"
    }
   },
   "source": [
    "## Cancer Progression Models\n",
    "\n",
    "Tumor samples are obtained as **cross-sectional** samples --> single-time snapshots from tumors\n",
    "\n",
    "<img src=\"fotografo.jpg\"\n",
    "     style=\"width:400px; height: 250px\" \n",
    "     align=\"center\"/>\n"
   ]
  },
  {
   "cell_type": "markdown",
   "metadata": {
    "slideshow": {
     "slide_type": "fragment"
    }
   },
   "source": [
    "Not all possible order in mutations are equally responsible for cancer progression --> infer order of accumulation of mutations leading to cancer progression. Order in accumulation of mutations is covered by **Cancer Progression Models (CPM)**\n",
    "\n",
    "<img src=\"pathTiMEx.png\"\n",
    "     style=\"width:600px; height: 450px\" \n",
    "     align=\"center\"/>"
   ]
  }
 ],
 "metadata": {
  "celltoolbar": "Slideshow",
  "kernelspec": {
   "display_name": "R",
   "language": "R",
   "name": "ir"
  },
  "language_info": {
   "codemirror_mode": "r",
   "file_extension": ".r",
   "mimetype": "text/x-r-source",
   "name": "R",
   "pygments_lexer": "r",
   "version": "3.6.1"
  }
 },
 "nbformat": 4,
 "nbformat_minor": 4
}
